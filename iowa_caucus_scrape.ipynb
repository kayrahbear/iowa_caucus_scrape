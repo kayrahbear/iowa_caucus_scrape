{
 "cells": [
  {
   "cell_type": "code",
   "execution_count": 2,
   "metadata": {},
   "outputs": [],
   "source": [
    "from bs4 import BeautifulSoup\n",
    "import requests"
   ]
  },
  {
   "cell_type": "code",
   "execution_count": 3,
   "metadata": {},
   "outputs": [],
   "source": [
    "url_to_scrape = \"https://results.thecaucuses.org/\""
   ]
  },
  {
   "cell_type": "code",
   "execution_count": 4,
   "metadata": {},
   "outputs": [],
   "source": [
    "response = requests.get(url_to_scrape)"
   ]
  },
  {
   "cell_type": "code",
   "execution_count": 5,
   "metadata": {},
   "outputs": [],
   "source": [
    "soup = BeautifulSoup(response.text, 'lxml')"
   ]
  },
  {
   "cell_type": "code",
   "execution_count": 6,
   "metadata": {},
   "outputs": [],
   "source": [
    "each_county_full_data = soup.find_all('div', class_ = 'precinct-rows')"
   ]
  },
  {
   "cell_type": "code",
   "execution_count": 103,
   "metadata": {},
   "outputs": [],
   "source": [
    "precinct_data = []\n",
    "\n",
    "for county in each_county_full_data:\n",
    "    county_name = county.findNext(string=True)\n",
    "    \n",
    "    precinct_raw_data = county.find_all('div', class_='precinct-data')\n",
    "    \n",
    "    for precinct in precinct_raw_data:\n",
    "        all_rows = precinct.find_all('ul')\n",
    "\n",
    "        for row in all_rows:\n",
    "            precinct_name = row.contents[0].text\n",
    "            precinct_rows = row.contents[1:]\n",
    "            precinct_cells = []\n",
    "\n",
    "            for data in precinct_rows:\n",
    "                precinct_cells.append(data.text)\n",
    "\n",
    "            precinct_cells.insert(0, county_name)\n",
    "            precinct_cells.insert(1, precinct_name)\n",
    "            precinct_data.append({precinct_name: precinct_cells})"
   ]
  },
  {
   "cell_type": "code",
   "execution_count": 101,
   "metadata": {},
   "outputs": [],
   "source": [
    "import csv\n",
    "\n",
    "headers = [\"County\", \"Precinct\", \"Bennet_First_Expression\", \"Bennet_Final_Expression\", \"Bennet_SDE\", \"Biden_First_Expression\", \"Biden_Final_Expression\", \n",
    "           \"Biden_SDE\", \"Bloomberg_First_Expression\", \"Bloomberg_Final_Expression\", \"Bloomberg_SDE\", \"Buttigieg_First_Expression\", \"Buttigieg_Final_Expression\", \"Buttigieg_SDE\",\n",
    "           \"Delaney_First_Expression\", \"Delaney_Final_Expression\", \"Delaney_SDE\",\"Gabbard_First_Expression\", \"Gabbard_Final_Expression\", \"Gabbard_SDE\",\n",
    "            \"Klobuchar_First_Expression\", \"Klobuchar_Final_Expression\", \"Klobuchar_SDE\",\"Patrick_First_Expression\", \"Patrick_Final_Expression\", \"Patrick_SDE\",\n",
    "          \"Sanders_First_Expression\", \"Sanders_Final_Expression\", \"Sanders_SDE\", \"Steyer_First_Expression\", \"Steyer_Final_Expression\", \"Steyer_SDE\",\n",
    "          \"Warren_First_Expression\", \"Warren_Final_Expression\", \"Warren_SDE\",\"Yang_First_Expression\", \"Yang_Final_Expression\", \"Yang_SDE\",\n",
    "          \"Other_First_Expression\", \"Other_Final_Expression\", \"Other_SDE\",\"Uncommitted_First_Expression\", \"Uncommitted_Final_Expression\", \"Uncommitted_SDE\"]\n",
    "\n",
    "with open('iowa_caucus_results.csv', 'w', newline='') as file:\n",
    "    writer = csv.writer(file)\n",
    "    writer.writerow(headers)\n",
    "    \n",
    "    for precinct in precinct_data:\n",
    "        for k, v in precinct.items():\n",
    "            if k != \"Total\":\n",
    "                writer.writerow(v)       "
   ]
  },
  {
   "cell_type": "code",
   "execution_count": null,
   "metadata": {},
   "outputs": [],
   "source": []
  },
  {
   "cell_type": "code",
   "execution_count": null,
   "metadata": {},
   "outputs": [],
   "source": []
  },
  {
   "cell_type": "code",
   "execution_count": null,
   "metadata": {},
   "outputs": [],
   "source": []
  }
 ],
 "metadata": {
  "kernelspec": {
   "display_name": "Python 3",
   "language": "python",
   "name": "python3"
  },
  "language_info": {
   "codemirror_mode": {
    "name": "ipython",
    "version": 3
   },
   "file_extension": ".py",
   "mimetype": "text/x-python",
   "name": "python",
   "nbconvert_exporter": "python",
   "pygments_lexer": "ipython3",
   "version": "3.6.9"
  }
 },
 "nbformat": 4,
 "nbformat_minor": 2
}
